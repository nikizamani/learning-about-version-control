{
 "cells": [
  {
   "cell_type": "markdown",
   "id": "bff74478-896c-4824-b552-711eb5dc1872",
   "metadata": {},
   "source": [
    "Markdown Cell"
   ]
  },
  {
   "cell_type": "code",
   "execution_count": 1,
   "id": "2ef6cb3a-21c6-4e0a-9ecb-5af608d61f2b",
   "metadata": {},
   "outputs": [
    {
     "name": "stdout",
     "output_type": "stream",
     "text": [
      "[1] \"code cell\"\n"
     ]
    }
   ],
   "source": [
    "print ('code cell')"
   ]
  }
 ],
 "metadata": {
  "kernelspec": {
   "display_name": "R",
   "language": "R",
   "name": "ir"
  },
  "language_info": {
   "codemirror_mode": "r",
   "file_extension": ".r",
   "mimetype": "text/x-r-source",
   "name": "R",
   "pygments_lexer": "r",
   "version": "4.1.2"
  }
 },
 "nbformat": 4,
 "nbformat_minor": 5
}
